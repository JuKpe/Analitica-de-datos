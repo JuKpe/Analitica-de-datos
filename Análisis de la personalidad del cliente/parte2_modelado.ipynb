{
 "cells": [
  {
   "cell_type": "markdown",
   "metadata": {
    "id": "fO2vF76eG8W4"
   },
   "source": [
    "# Modelados predictivos"
   ]
  },
  {
   "cell_type": "markdown",
   "metadata": {
    "id": "6H0j2pc3HA0m"
   },
   "source": [
    "### Autor: Perez Lopez Juan Carlos"
   ]
  },
  {
   "cell_type": "markdown",
   "metadata": {
    "id": "lvJCaH8_Kk0w"
   },
   "source": [
    "### Definición del Problema:\n",
    "\n",
    "**Pregunta del negocio:**\n",
    "\n",
    "> ¿Se puede predecir si un cliente responderá positivamente (1) o no (0) a una campaña de marketing?\n",
    "\n",
    "**Tipo de problema:**\n",
    "\n",
    "> **Clasificación binaria supervisada**, donde la variable objetivo (**Response**) toma valores 0 o 1.\n",
    "\n",
    "**Objetivo:**\n",
    "\n",
    "> Desarrollar un modelo de machine learning capaz de predecir la probabilidad de respuesta de un cliente a una campaña, utilizando características como edad, ingresos, historial de compras, interacciones previas, entre otras variables disponibles.\n",
    "\n",
    "**Valor para el negocio:**\n",
    "\n",
    "> Poder identificar con mayor precisión qué clientes tienen mayor probabilidad de responder positivamente, permitiendo:\n",
    "\n",
    "* Optimizar los recursos del área de marketing.\n",
    "* Mejorar la tasa de conversión de las campañas.\n",
    "* Reducir el costo por adquisición de clientes."
   ]
  },
  {
   "cell_type": "code",
   "execution_count": 15,
   "metadata": {
    "executionInfo": {
     "elapsed": 557,
     "status": "ok",
     "timestamp": 1752094223672,
     "user": {
      "displayName": "Juan Carlos",
      "userId": "13599315501920735708"
     },
     "user_tz": 300
    },
    "id": "QW30pPNpyEvG"
   },
   "outputs": [],
   "source": [
    "import pandas as pd\n",
    "from sklearn.model_selection import train_test_split\n",
    "from sklearn.linear_model import LogisticRegression\n",
    "from sklearn.ensemble import RandomForestClassifier\n",
    "from sklearn.metrics import confusion_matrix, accuracy_score, precision_score, recall_score, f1_score\n",
    "import numpy as np\n",
    "import matplotlib.pyplot as plt\n",
    "import seaborn as sns"
   ]
  },
  {
   "cell_type": "code",
   "execution_count": 5,
   "metadata": {
    "colab": {
     "base_uri": "https://localhost:8080/",
     "height": 256
    },
    "executionInfo": {
     "elapsed": 77,
     "status": "ok",
     "timestamp": 1752093283797,
     "user": {
      "displayName": "Juan Carlos",
      "userId": "13599315501920735708"
     },
     "user_tz": 300
    },
    "id": "TwPIrH1k5LNL",
    "outputId": "c9ca8487-9b15-4114-925f-301af2c1d055"
   },
   "outputs": [
    {
     "data": {
      "application/vnd.google.colaboratory.intrinsic+json": {
       "type": "dataframe",
       "variable_name": "data"
      },
      "text/html": [
       "\n",
       "  <div id=\"df-e8ec5598-2184-4066-8d5e-134326f7cdd1\" class=\"colab-df-container\">\n",
       "    <div>\n",
       "<style scoped>\n",
       "    .dataframe tbody tr th:only-of-type {\n",
       "        vertical-align: middle;\n",
       "    }\n",
       "\n",
       "    .dataframe tbody tr th {\n",
       "        vertical-align: top;\n",
       "    }\n",
       "\n",
       "    .dataframe thead th {\n",
       "        text-align: right;\n",
       "    }\n",
       "</style>\n",
       "<table border=\"1\" class=\"dataframe\">\n",
       "  <thead>\n",
       "    <tr style=\"text-align: right;\">\n",
       "      <th></th>\n",
       "      <th>Education</th>\n",
       "      <th>Income</th>\n",
       "      <th>Kidhome</th>\n",
       "      <th>Teenhome</th>\n",
       "      <th>Recency</th>\n",
       "      <th>Wines</th>\n",
       "      <th>Fruits</th>\n",
       "      <th>Meat</th>\n",
       "      <th>Fish</th>\n",
       "      <th>Sweets</th>\n",
       "      <th>...</th>\n",
       "      <th>AcceptedCmp2</th>\n",
       "      <th>Complain</th>\n",
       "      <th>Response</th>\n",
       "      <th>Customer_For</th>\n",
       "      <th>Age</th>\n",
       "      <th>Spent</th>\n",
       "      <th>Living_With</th>\n",
       "      <th>Children</th>\n",
       "      <th>Family_Size</th>\n",
       "      <th>Is_Parent</th>\n",
       "    </tr>\n",
       "  </thead>\n",
       "  <tbody>\n",
       "    <tr>\n",
       "      <th>0</th>\n",
       "      <td>0</td>\n",
       "      <td>58138.0</td>\n",
       "      <td>0</td>\n",
       "      <td>0</td>\n",
       "      <td>58</td>\n",
       "      <td>635</td>\n",
       "      <td>88</td>\n",
       "      <td>546</td>\n",
       "      <td>172</td>\n",
       "      <td>88</td>\n",
       "      <td>...</td>\n",
       "      <td>0</td>\n",
       "      <td>0</td>\n",
       "      <td>1</td>\n",
       "      <td>57283200000000000</td>\n",
       "      <td>68</td>\n",
       "      <td>1617</td>\n",
       "      <td>0</td>\n",
       "      <td>0</td>\n",
       "      <td>1</td>\n",
       "      <td>0</td>\n",
       "    </tr>\n",
       "    <tr>\n",
       "      <th>1</th>\n",
       "      <td>0</td>\n",
       "      <td>46344.0</td>\n",
       "      <td>1</td>\n",
       "      <td>1</td>\n",
       "      <td>38</td>\n",
       "      <td>11</td>\n",
       "      <td>1</td>\n",
       "      <td>6</td>\n",
       "      <td>2</td>\n",
       "      <td>1</td>\n",
       "      <td>...</td>\n",
       "      <td>0</td>\n",
       "      <td>0</td>\n",
       "      <td>0</td>\n",
       "      <td>9763200000000000</td>\n",
       "      <td>71</td>\n",
       "      <td>27</td>\n",
       "      <td>0</td>\n",
       "      <td>2</td>\n",
       "      <td>3</td>\n",
       "      <td>1</td>\n",
       "    </tr>\n",
       "    <tr>\n",
       "      <th>2</th>\n",
       "      <td>0</td>\n",
       "      <td>71613.0</td>\n",
       "      <td>0</td>\n",
       "      <td>0</td>\n",
       "      <td>26</td>\n",
       "      <td>426</td>\n",
       "      <td>49</td>\n",
       "      <td>127</td>\n",
       "      <td>111</td>\n",
       "      <td>21</td>\n",
       "      <td>...</td>\n",
       "      <td>0</td>\n",
       "      <td>0</td>\n",
       "      <td>0</td>\n",
       "      <td>26956800000000000</td>\n",
       "      <td>60</td>\n",
       "      <td>776</td>\n",
       "      <td>1</td>\n",
       "      <td>0</td>\n",
       "      <td>2</td>\n",
       "      <td>0</td>\n",
       "    </tr>\n",
       "    <tr>\n",
       "      <th>3</th>\n",
       "      <td>0</td>\n",
       "      <td>26646.0</td>\n",
       "      <td>1</td>\n",
       "      <td>0</td>\n",
       "      <td>26</td>\n",
       "      <td>11</td>\n",
       "      <td>4</td>\n",
       "      <td>20</td>\n",
       "      <td>10</td>\n",
       "      <td>3</td>\n",
       "      <td>...</td>\n",
       "      <td>0</td>\n",
       "      <td>0</td>\n",
       "      <td>0</td>\n",
       "      <td>12009600000000000</td>\n",
       "      <td>41</td>\n",
       "      <td>53</td>\n",
       "      <td>1</td>\n",
       "      <td>1</td>\n",
       "      <td>3</td>\n",
       "      <td>1</td>\n",
       "    </tr>\n",
       "    <tr>\n",
       "      <th>4</th>\n",
       "      <td>1</td>\n",
       "      <td>58293.0</td>\n",
       "      <td>1</td>\n",
       "      <td>0</td>\n",
       "      <td>94</td>\n",
       "      <td>173</td>\n",
       "      <td>43</td>\n",
       "      <td>118</td>\n",
       "      <td>46</td>\n",
       "      <td>27</td>\n",
       "      <td>...</td>\n",
       "      <td>0</td>\n",
       "      <td>0</td>\n",
       "      <td>0</td>\n",
       "      <td>13910400000000000</td>\n",
       "      <td>44</td>\n",
       "      <td>422</td>\n",
       "      <td>1</td>\n",
       "      <td>1</td>\n",
       "      <td>3</td>\n",
       "      <td>1</td>\n",
       "    </tr>\n",
       "  </tbody>\n",
       "</table>\n",
       "<p>5 rows × 30 columns</p>\n",
       "</div>\n",
       "    <div class=\"colab-df-buttons\">\n",
       "\n",
       "  <div class=\"colab-df-container\">\n",
       "    <button class=\"colab-df-convert\" onclick=\"convertToInteractive('df-e8ec5598-2184-4066-8d5e-134326f7cdd1')\"\n",
       "            title=\"Convert this dataframe to an interactive table.\"\n",
       "            style=\"display:none;\">\n",
       "\n",
       "  <svg xmlns=\"http://www.w3.org/2000/svg\" height=\"24px\" viewBox=\"0 -960 960 960\">\n",
       "    <path d=\"M120-120v-720h720v720H120Zm60-500h600v-160H180v160Zm220 220h160v-160H400v160Zm0 220h160v-160H400v160ZM180-400h160v-160H180v160Zm440 0h160v-160H620v160ZM180-180h160v-160H180v160Zm440 0h160v-160H620v160Z\"/>\n",
       "  </svg>\n",
       "    </button>\n",
       "\n",
       "  <style>\n",
       "    .colab-df-container {\n",
       "      display:flex;\n",
       "      gap: 12px;\n",
       "    }\n",
       "\n",
       "    .colab-df-convert {\n",
       "      background-color: #E8F0FE;\n",
       "      border: none;\n",
       "      border-radius: 50%;\n",
       "      cursor: pointer;\n",
       "      display: none;\n",
       "      fill: #1967D2;\n",
       "      height: 32px;\n",
       "      padding: 0 0 0 0;\n",
       "      width: 32px;\n",
       "    }\n",
       "\n",
       "    .colab-df-convert:hover {\n",
       "      background-color: #E2EBFA;\n",
       "      box-shadow: 0px 1px 2px rgba(60, 64, 67, 0.3), 0px 1px 3px 1px rgba(60, 64, 67, 0.15);\n",
       "      fill: #174EA6;\n",
       "    }\n",
       "\n",
       "    .colab-df-buttons div {\n",
       "      margin-bottom: 4px;\n",
       "    }\n",
       "\n",
       "    [theme=dark] .colab-df-convert {\n",
       "      background-color: #3B4455;\n",
       "      fill: #D2E3FC;\n",
       "    }\n",
       "\n",
       "    [theme=dark] .colab-df-convert:hover {\n",
       "      background-color: #434B5C;\n",
       "      box-shadow: 0px 1px 3px 1px rgba(0, 0, 0, 0.15);\n",
       "      filter: drop-shadow(0px 1px 2px rgba(0, 0, 0, 0.3));\n",
       "      fill: #FFFFFF;\n",
       "    }\n",
       "  </style>\n",
       "\n",
       "    <script>\n",
       "      const buttonEl =\n",
       "        document.querySelector('#df-e8ec5598-2184-4066-8d5e-134326f7cdd1 button.colab-df-convert');\n",
       "      buttonEl.style.display =\n",
       "        google.colab.kernel.accessAllowed ? 'block' : 'none';\n",
       "\n",
       "      async function convertToInteractive(key) {\n",
       "        const element = document.querySelector('#df-e8ec5598-2184-4066-8d5e-134326f7cdd1');\n",
       "        const dataTable =\n",
       "          await google.colab.kernel.invokeFunction('convertToInteractive',\n",
       "                                                    [key], {});\n",
       "        if (!dataTable) return;\n",
       "\n",
       "        const docLinkHtml = 'Like what you see? Visit the ' +\n",
       "          '<a target=\"_blank\" href=https://colab.research.google.com/notebooks/data_table.ipynb>data table notebook</a>'\n",
       "          + ' to learn more about interactive tables.';\n",
       "        element.innerHTML = '';\n",
       "        dataTable['output_type'] = 'display_data';\n",
       "        await google.colab.output.renderOutput(dataTable, element);\n",
       "        const docLink = document.createElement('div');\n",
       "        docLink.innerHTML = docLinkHtml;\n",
       "        element.appendChild(docLink);\n",
       "      }\n",
       "    </script>\n",
       "  </div>\n",
       "\n",
       "\n",
       "    <div id=\"df-44bbb260-dfd9-4f38-9132-4db2555c7c1a\">\n",
       "      <button class=\"colab-df-quickchart\" onclick=\"quickchart('df-44bbb260-dfd9-4f38-9132-4db2555c7c1a')\"\n",
       "                title=\"Suggest charts\"\n",
       "                style=\"display:none;\">\n",
       "\n",
       "<svg xmlns=\"http://www.w3.org/2000/svg\" height=\"24px\"viewBox=\"0 0 24 24\"\n",
       "     width=\"24px\">\n",
       "    <g>\n",
       "        <path d=\"M19 3H5c-1.1 0-2 .9-2 2v14c0 1.1.9 2 2 2h14c1.1 0 2-.9 2-2V5c0-1.1-.9-2-2-2zM9 17H7v-7h2v7zm4 0h-2V7h2v10zm4 0h-2v-4h2v4z\"/>\n",
       "    </g>\n",
       "</svg>\n",
       "      </button>\n",
       "\n",
       "<style>\n",
       "  .colab-df-quickchart {\n",
       "      --bg-color: #E8F0FE;\n",
       "      --fill-color: #1967D2;\n",
       "      --hover-bg-color: #E2EBFA;\n",
       "      --hover-fill-color: #174EA6;\n",
       "      --disabled-fill-color: #AAA;\n",
       "      --disabled-bg-color: #DDD;\n",
       "  }\n",
       "\n",
       "  [theme=dark] .colab-df-quickchart {\n",
       "      --bg-color: #3B4455;\n",
       "      --fill-color: #D2E3FC;\n",
       "      --hover-bg-color: #434B5C;\n",
       "      --hover-fill-color: #FFFFFF;\n",
       "      --disabled-bg-color: #3B4455;\n",
       "      --disabled-fill-color: #666;\n",
       "  }\n",
       "\n",
       "  .colab-df-quickchart {\n",
       "    background-color: var(--bg-color);\n",
       "    border: none;\n",
       "    border-radius: 50%;\n",
       "    cursor: pointer;\n",
       "    display: none;\n",
       "    fill: var(--fill-color);\n",
       "    height: 32px;\n",
       "    padding: 0;\n",
       "    width: 32px;\n",
       "  }\n",
       "\n",
       "  .colab-df-quickchart:hover {\n",
       "    background-color: var(--hover-bg-color);\n",
       "    box-shadow: 0 1px 2px rgba(60, 64, 67, 0.3), 0 1px 3px 1px rgba(60, 64, 67, 0.15);\n",
       "    fill: var(--button-hover-fill-color);\n",
       "  }\n",
       "\n",
       "  .colab-df-quickchart-complete:disabled,\n",
       "  .colab-df-quickchart-complete:disabled:hover {\n",
       "    background-color: var(--disabled-bg-color);\n",
       "    fill: var(--disabled-fill-color);\n",
       "    box-shadow: none;\n",
       "  }\n",
       "\n",
       "  .colab-df-spinner {\n",
       "    border: 2px solid var(--fill-color);\n",
       "    border-color: transparent;\n",
       "    border-bottom-color: var(--fill-color);\n",
       "    animation:\n",
       "      spin 1s steps(1) infinite;\n",
       "  }\n",
       "\n",
       "  @keyframes spin {\n",
       "    0% {\n",
       "      border-color: transparent;\n",
       "      border-bottom-color: var(--fill-color);\n",
       "      border-left-color: var(--fill-color);\n",
       "    }\n",
       "    20% {\n",
       "      border-color: transparent;\n",
       "      border-left-color: var(--fill-color);\n",
       "      border-top-color: var(--fill-color);\n",
       "    }\n",
       "    30% {\n",
       "      border-color: transparent;\n",
       "      border-left-color: var(--fill-color);\n",
       "      border-top-color: var(--fill-color);\n",
       "      border-right-color: var(--fill-color);\n",
       "    }\n",
       "    40% {\n",
       "      border-color: transparent;\n",
       "      border-right-color: var(--fill-color);\n",
       "      border-top-color: var(--fill-color);\n",
       "    }\n",
       "    60% {\n",
       "      border-color: transparent;\n",
       "      border-right-color: var(--fill-color);\n",
       "    }\n",
       "    80% {\n",
       "      border-color: transparent;\n",
       "      border-right-color: var(--fill-color);\n",
       "      border-bottom-color: var(--fill-color);\n",
       "    }\n",
       "    90% {\n",
       "      border-color: transparent;\n",
       "      border-bottom-color: var(--fill-color);\n",
       "    }\n",
       "  }\n",
       "</style>\n",
       "\n",
       "      <script>\n",
       "        async function quickchart(key) {\n",
       "          const quickchartButtonEl =\n",
       "            document.querySelector('#' + key + ' button');\n",
       "          quickchartButtonEl.disabled = true;  // To prevent multiple clicks.\n",
       "          quickchartButtonEl.classList.add('colab-df-spinner');\n",
       "          try {\n",
       "            const charts = await google.colab.kernel.invokeFunction(\n",
       "                'suggestCharts', [key], {});\n",
       "          } catch (error) {\n",
       "            console.error('Error during call to suggestCharts:', error);\n",
       "          }\n",
       "          quickchartButtonEl.classList.remove('colab-df-spinner');\n",
       "          quickchartButtonEl.classList.add('colab-df-quickchart-complete');\n",
       "        }\n",
       "        (() => {\n",
       "          let quickchartButtonEl =\n",
       "            document.querySelector('#df-44bbb260-dfd9-4f38-9132-4db2555c7c1a button');\n",
       "          quickchartButtonEl.style.display =\n",
       "            google.colab.kernel.accessAllowed ? 'block' : 'none';\n",
       "        })();\n",
       "      </script>\n",
       "    </div>\n",
       "\n",
       "    </div>\n",
       "  </div>\n"
      ],
      "text/plain": [
       "   Education   Income  Kidhome  Teenhome  Recency  Wines  Fruits  Meat  Fish  \\\n",
       "0          0  58138.0        0         0       58    635      88   546   172   \n",
       "1          0  46344.0        1         1       38     11       1     6     2   \n",
       "2          0  71613.0        0         0       26    426      49   127   111   \n",
       "3          0  26646.0        1         0       26     11       4    20    10   \n",
       "4          1  58293.0        1         0       94    173      43   118    46   \n",
       "\n",
       "   Sweets  ...  AcceptedCmp2  Complain  Response       Customer_For  Age  \\\n",
       "0      88  ...             0         0         1  57283200000000000   68   \n",
       "1       1  ...             0         0         0   9763200000000000   71   \n",
       "2      21  ...             0         0         0  26956800000000000   60   \n",
       "3       3  ...             0         0         0  12009600000000000   41   \n",
       "4      27  ...             0         0         0  13910400000000000   44   \n",
       "\n",
       "   Spent  Living_With  Children  Family_Size  Is_Parent  \n",
       "0   1617            0         0            1          0  \n",
       "1     27            0         2            3          1  \n",
       "2    776            1         0            2          0  \n",
       "3     53            1         1            3          1  \n",
       "4    422            1         1            3          1  \n",
       "\n",
       "[5 rows x 30 columns]"
      ]
     },
     "execution_count": 5,
     "metadata": {},
     "output_type": "execute_result"
    }
   ],
   "source": [
    "data = pd.read_csv('/content/marketing_campaign_processed.csv')\n",
    "data.head()"
   ]
  },
  {
   "cell_type": "markdown",
   "metadata": {
    "id": "yCefNF_G9z6z"
   },
   "source": [
    "# Definir características (X) y objetivo (y)"
   ]
  },
  {
   "cell_type": "code",
   "execution_count": 8,
   "metadata": {
    "executionInfo": {
     "elapsed": 4,
     "status": "ok",
     "timestamp": 1752093705411,
     "user": {
      "displayName": "Juan Carlos",
      "userId": "13599315501920735708"
     },
     "user_tz": 300
    },
    "id": "JBIlsGfl6Jns"
   },
   "outputs": [],
   "source": [
    "# Suponiendo que «Respuesta» es la columna objetivo y que todas las demás columnas numéricas son características\n",
    "X = data.drop('Response', axis=1)\n",
    "y = data['Response']"
   ]
  },
  {
   "cell_type": "code",
   "execution_count": 9,
   "metadata": {
    "executionInfo": {
     "elapsed": 39,
     "status": "ok",
     "timestamp": 1752093760103,
     "user": {
      "displayName": "Juan Carlos",
      "userId": "13599315501920735708"
     },
     "user_tz": 300
    },
    "id": "P50ij-3I7EPr"
   },
   "outputs": [],
   "source": [
    "# Gestiona las columnas no numéricas potenciales si aún no se han procesado\n",
    "X = X.select_dtypes(include=np.number).fillna(0) # Selecciona solo las columnas numéricas y rellena los valores NaN"
   ]
  },
  {
   "cell_type": "code",
   "execution_count": 10,
   "metadata": {
    "executionInfo": {
     "elapsed": 13,
     "status": "ok",
     "timestamp": 1752093813554,
     "user": {
      "displayName": "Juan Carlos",
      "userId": "13599315501920735708"
     },
     "user_tz": 300
    },
    "id": "HBXGbnn27Rls"
   },
   "outputs": [],
   "source": [
    "# Dividir los datos en conjuntos de entrenamiento y prueba.\n",
    "X_train, X_test, y_train, y_test = train_test_split(X, y, test_size=0.2, random_state=42, stratify=y)"
   ]
  },
  {
   "cell_type": "markdown",
   "metadata": {
    "id": "V9ftYzl89aEU"
   },
   "source": [
    "# --- Modelo 1: Logistic Regression ---"
   ]
  },
  {
   "cell_type": "code",
   "execution_count": 11,
   "metadata": {
    "colab": {
     "base_uri": "https://localhost:8080/"
    },
    "executionInfo": {
     "elapsed": 28,
     "status": "ok",
     "timestamp": 1752093873403,
     "user": {
      "displayName": "Juan Carlos",
      "userId": "13599315501920735708"
     },
     "user_tz": 300
    },
    "id": "4O4w7dE27epU",
    "outputId": "57221b2d-5d97-4159-f1e0-88af7b33f967"
   },
   "outputs": [
    {
     "name": "stdout",
     "output_type": "stream",
     "text": [
      "--- Logistic Regression ---\n"
     ]
    }
   ],
   "source": [
    "log_reg = LogisticRegression(max_iter=1000) # Aumento de max_iter para la convergencia\n",
    "log_reg.fit(X_train, y_train)\n",
    "y_pred_log_reg = log_reg.predict(X_test)"
   ]
  },
  {
   "cell_type": "code",
   "execution_count": 12,
   "metadata": {
    "colab": {
     "base_uri": "https://localhost:8080/"
    },
    "executionInfo": {
     "elapsed": 37,
     "status": "ok",
     "timestamp": 1752093903507,
     "user": {
      "displayName": "Juan Carlos",
      "userId": "13599315501920735708"
     },
     "user_tz": 300
    },
    "id": "EmrMlLkD7tQM",
    "outputId": "5203c043-99e8-4192-9449-c15034de1bc7"
   },
   "outputs": [
    {
     "name": "stdout",
     "output_type": "stream",
     "text": [
      "Confusion Matrix:\n",
      "[[376   0]\n",
      " [ 67   0]]\n",
      "Accuracy: 0.8487584650112867\n",
      "Precision: 0.0\n",
      "Recall: 0.0\n",
      "F1-score: 0.0\n"
     ]
    },
    {
     "name": "stderr",
     "output_type": "stream",
     "text": [
      "/usr/local/lib/python3.11/dist-packages/sklearn/metrics/_classification.py:1565: UndefinedMetricWarning: Precision is ill-defined and being set to 0.0 due to no predicted samples. Use `zero_division` parameter to control this behavior.\n",
      "  _warn_prf(average, modifier, f\"{metric.capitalize()} is\", len(result))\n"
     ]
    }
   ],
   "source": [
    "# Evaluar el Logistic Regression\n",
    "print(\"Confusion Matrix:\")\n",
    "print(confusion_matrix(y_test, y_pred_log_reg))\n",
    "print(\"Accuracy:\", accuracy_score(y_test, y_pred_log_reg))\n",
    "print(\"Precision:\", precision_score(y_test, y_pred_log_reg))\n",
    "print(\"Recall:\", recall_score(y_test, y_pred_log_reg))\n",
    "print(\"F1-score:\", f1_score(y_test, y_pred_log_reg))"
   ]
  },
  {
   "cell_type": "code",
   "execution_count": 22,
   "metadata": {
    "colab": {
     "base_uri": "https://localhost:8080/",
     "height": 487
    },
    "executionInfo": {
     "elapsed": 350,
     "status": "ok",
     "timestamp": 1752094718500,
     "user": {
      "displayName": "Juan Carlos",
      "userId": "13599315501920735708"
     },
     "user_tz": 300
    },
    "id": "EdHjfEJf8xmT",
    "outputId": "2059547f-8de5-4fc6-8f6e-f45228f9291d"
   },
   "outputs": [
    {
     "data": {
      "image/png": "[encoded data removed]",
      "text/plain": [
       "<Figure size 800x500 with 2 Axes>"
      ]
     },
     "metadata": {},
     "output_type": "display_data"
    }
   ],
   "source": [
    "cm_log_reg = confusion_matrix(y_test, y_pred_log_reg)\n",
    "\n",
    "# gráfica de la matriz de confusión\n",
    "plt.figure(figsize=(8, 5))\n",
    "sns.heatmap(cm_log_reg, annot=True, fmt='d', cmap='Blues', xticklabels=['Predicted 0', 'Predicted 1'], yticklabels=['Actual 0', 'Actual 1'])\n",
    "plt.xlabel('Predicted Label')\n",
    "plt.ylabel('True Label')\n",
    "plt.title('Confusion Matrix - Logistic Regression')\n",
    "plt.show()\n"
   ]
  },
  {
   "cell_type": "markdown",
   "metadata": {
    "id": "wV6Iatue9w4E"
   },
   "source": [
    "# --- Modelo 2: Random Forest Classifier ---"
   ]
  },
  {
   "cell_type": "code",
   "execution_count": 17,
   "metadata": {
    "executionInfo": {
     "elapsed": 969,
     "status": "ok",
     "timestamp": 1752094526274,
     "user": {
      "displayName": "Juan Carlos",
      "userId": "13599315501920735708"
     },
     "user_tz": 300
    },
    "id": "HKYaLOUj8yKM"
   },
   "outputs": [],
   "source": [
    "rf_clf = RandomForestClassifier(n_estimators=100, random_state=42)\n",
    "rf_clf.fit(X_train, y_train)\n",
    "y_pred_rf_clf = rf_clf.predict(X_test)"
   ]
  },
  {
   "cell_type": "code",
   "execution_count": 18,
   "metadata": {
    "colab": {
     "base_uri": "https://localhost:8080/"
    },
    "executionInfo": {
     "elapsed": 39,
     "status": "ok",
     "timestamp": 1752094572750,
     "user": {
      "displayName": "Juan Carlos",
      "userId": "13599315501920735708"
     },
     "user_tz": 300
    },
    "id": "PGQ8irU7-MaU",
    "outputId": "daf21095-ecfc-410d-8d55-a00bc24ad091"
   },
   "outputs": [
    {
     "name": "stdout",
     "output_type": "stream",
     "text": [
      "Confusion Matrix:\n",
      "[[372   4]\n",
      " [ 43  24]]\n",
      "Accuracy: 0.8939051918735892\n",
      "Precision: 0.8571428571428571\n",
      "Recall: 0.3582089552238806\n",
      "F1-score: 0.5052631578947369\n"
     ]
    }
   ],
   "source": [
    "# Evaluar el Random Forest Classifier\n",
    "print(\"Confusion Matrix:\")\n",
    "print(confusion_matrix(y_test, y_pred_rf_clf))\n",
    "print(\"Accuracy:\", accuracy_score(y_test, y_pred_rf_clf))\n",
    "print(\"Precision:\", precision_score(y_test, y_pred_rf_clf))\n",
    "print(\"Recall:\", recall_score(y_test, y_pred_rf_clf))\n",
    "print(\"F1-score:\", f1_score(y_test, y_pred_rf_clf))"
   ]
  },
  {
   "cell_type": "code",
   "execution_count": 24,
   "metadata": {
    "colab": {
     "base_uri": "https://localhost:8080/",
     "height": 487
    },
    "executionInfo": {
     "elapsed": 328,
     "status": "ok",
     "timestamp": 1752094841702,
     "user": {
      "displayName": "Juan Carlos",
      "userId": "13599315501920735708"
     },
     "user_tz": 300
    },
    "id": "Z_l-gd4v-X_E",
    "outputId": "55dd495e-58f0-4aee-ab30-1d244f0129f1"
   },
   "outputs": [
    {
     "data": {
      "image/png": "[encoded data removed]",
      "text/plain": [
       "<Figure size 800x500 with 2 Axes>"
      ]
     },
     "metadata": {},
     "output_type": "display_data"
    }
   ],
   "source": [
    "cm_random_forest = confusion_matrix(y_test, y_pred_rf_clf)\n",
    "\n",
    "# gráfica de la matriz de confusión\n",
    "plt.figure(figsize=(8, 5))\n",
    "sns.heatmap(cm_random_forest, annot=True, fmt='d', cmap='Blues', xticklabels=['Predicted 0', 'Predicted 1'], yticklabels=['Actual 0', 'Actual 1'])\n",
    "plt.xlabel('Predicted Label')\n",
    "plt.ylabel('True Label')\n",
    "plt.title('Confusion Matrix - Random Forest Classifier')\n",
    "plt.show()"
   ]
  },
  {
   "cell_type": "markdown",
   "metadata": {
    "id": "oGPVvXRe_05t"
   },
   "source": [
    "# --- Interpretación ---"
   ]
  },
  {
   "cell_type": "markdown",
   "metadata": {
    "id": "PBNtbQvVBkJG"
   },
   "source": [
    "##  Comparación de Resultados:\n",
    "\n",
    "| Métrica       | Logistic Regression | Random Forest |\n",
    "| :------------ | :------------------ | :------------ |\n",
    "| **Accuracy**  | 0.849               | 0.894         |\n",
    "| **Precision** | 0.0                 | 0.857         |\n",
    "| **Recall**    | 0.0                 | 0.358         |\n",
    "| **F1-score**  | 0.0                 | 0.505         |\n",
    "\n",
    "##  Análisis:\n",
    "\n",
    "* **La regresión logística no detectó ningún positivo correctamente**:\n",
    "\n",
    "  * En su matriz de confusión:\n",
    "\n",
    "    ```\n",
    "    [[376   0]\n",
    "     [ 67   0]]\n",
    "    ```\n",
    "\n",
    "    Predijo todo como clase **negativa**. Por eso su precision, recall y F1 son **0**.\n",
    "  * Aunque su accuracy parece aceptable (0.849), es engañoso porque probablemente las clases están desbalanceadas (muchos más negativos que positivos).\n",
    "\n",
    "* **El Random Forest sí logró detectar positivos**:\n",
    "\n",
    "  * Matriz:\n",
    "\n",
    "    ```\n",
    "    [[372   4]\n",
    "     [43  24]]\n",
    "    ```\n",
    "\n",
    "    Detectó **24 positivos correctos**, con:\n",
    "\n",
    "    * Precision: 0.857 (cuando predice positivo, acierta un 85.7%)\n",
    "    * Recall: 0.358 (detecta el 35.8% de los positivos reales)\n",
    "    * F1-score: 0.505 (media armónica entre precisión y recall)\n",
    "\n",
    "    Además, su accuracy es mayor (0.894).\n",
    "\n",
    "## Conclusión:\n",
    "\n",
    "**El modelo Random Forest es claramente mejor**, porque:\n",
    "\n",
    "* Tiene mayor **precision**, **recall** y **F1-score**.\n",
    "* Detecta la clase minoritaria (positivos), cosa que la regresión logística no hizo.\n",
    "* Accuracy más alto, pero además **sus métricas de clasificación son consistentes**."
   ]
  },
  {
   "cell_type": "markdown",
   "metadata": {
    "id": "JOY9X-EVARpl"
   },
   "source": [
    "## exporta el archivo con las predicciones"
   ]
  },
  {
   "cell_type": "code",
   "execution_count": 25,
   "metadata": {
    "colab": {
     "base_uri": "https://localhost:8080/"
    },
    "executionInfo": {
     "elapsed": 55,
     "status": "ok",
     "timestamp": 1752096394468,
     "user": {
      "displayName": "Juan Carlos",
      "userId": "13599315501920735708"
     },
     "user_tz": 300
    },
    "id": "q0mxFZkgDjAe",
    "outputId": "e13b10fa-6784-46f0-96e6-44c13c06c4e0"
   },
   "outputs": [
    {
     "name": "stdout",
     "output_type": "stream",
     "text": [
      "\n",
      "DataFrame con predicciones de Random Forest:\n",
      "   Education   Income  Kidhome  Teenhome  Recency  Wines  Fruits  Meat  Fish  \\\n",
      "0          0  58138.0        0         0       58    635      88   546   172   \n",
      "1          0  46344.0        1         1       38     11       1     6     2   \n",
      "2          0  71613.0        0         0       26    426      49   127   111   \n",
      "3          0  26646.0        1         0       26     11       4    20    10   \n",
      "4          1  58293.0        1         0       94    173      43   118    46   \n",
      "\n",
      "   Sweets  ...  Complain  Response       Customer_For  Age  Spent  \\\n",
      "0      88  ...         0         1  57283200000000000   68   1617   \n",
      "1       1  ...         0         0   9763200000000000   71     27   \n",
      "2      21  ...         0         0  26956800000000000   60    776   \n",
      "3       3  ...         0         0  12009600000000000   41     53   \n",
      "4      27  ...         0         0  13910400000000000   44    422   \n",
      "\n",
      "   Living_With  Children  Family_Size  Is_Parent  Predicted_Response_RF  \n",
      "0            0         0            1          0                      1  \n",
      "1            0         2            3          1                      0  \n",
      "2            1         0            2          0                      0  \n",
      "3            1         1            3          1                      0  \n",
      "4            1         1            3          1                      0  \n",
      "\n",
      "[5 rows x 31 columns]\n"
     ]
    }
   ],
   "source": [
    "# Hacer predicciones sobre el conjunto de datos completo data\n",
    "data['Predicted_Response_RF'] = rf_clf.predict(X.select_dtypes(include=np.number).fillna(0))\n",
    "\n",
    "# Mostrar las primeras filas del dataframe con la nueva columna de predicciones\n",
    "print(\"\\nDataFrame con predicciones de Random Forest:\")\n",
    "print(data.head())\n"
   ]
  },
  {
   "cell_type": "code",
   "execution_count": 26,
   "metadata": {
    "colab": {
     "base_uri": "https://localhost:8080/"
    },
    "executionInfo": {
     "elapsed": 52,
     "status": "ok",
     "timestamp": 1752096494280,
     "user": {
      "displayName": "Juan Carlos",
      "userId": "13599315501920735708"
     },
     "user_tz": 300
    },
    "id": "JSdqtRKeFUvQ",
    "outputId": "c3828b8c-8d8e-47ea-d6e2-7b926699743b"
   },
   "outputs": [
    {
     "name": "stdout",
     "output_type": "stream",
     "text": [
      "\n",
      "DataFrame actualizado guardado en marketing_campaign_with_predictions.csv\n"
     ]
    }
   ],
   "source": [
    "# Puedes guardar el dataframe actualizado si lo necesitas\n",
    "data.to_csv('marketing_campaign_with_predictions.csv', index=False)\n",
    "print(\"\\nDataFrame actualizado guardado en marketing_campaign_with_predictions.csv\")"
   ]
  },
  {
   "cell_type": "code",
   "execution_count": null,
   "metadata": {
    "id": "0WKKqFdoFtG-"
   },
   "outputs": [],
   "source": []
  }
 ],
 "metadata": {
  "colab": {
   "authorship_tag": "ABX9TyMfhuyydsyoQFGyJpJ7nimq",
   "provenance": []
  },
  "kernelspec": {
   "display_name": "Python 3 (ipykernel)",
   "language": "python",
   "name": "python3"
  },
  "language_info": {
   "codemirror_mode": {
    "name": "ipython",
    "version": 3
   },
   "file_extension": ".py",
   "mimetype": "text/x-python",
   "name": "python",
   "nbconvert_exporter": "python",
   "pygments_lexer": "ipython3",
   "version": "3.9.12"
  }
 },
 "nbformat": 4,
 "nbformat_minor": 1
}
